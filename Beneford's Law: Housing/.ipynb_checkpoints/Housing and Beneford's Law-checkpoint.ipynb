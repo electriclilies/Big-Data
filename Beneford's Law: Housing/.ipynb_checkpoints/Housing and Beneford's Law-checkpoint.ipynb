{
 "cells": [
  {
   "cell_type": "code",
   "execution_count": 41,
   "metadata": {
    "collapsed": false
   },
   "outputs": [
    {
     "data": {
      "text/plain": [
       "(array([ 19.,  42.,  79.,  84.,  88.,  51.,  48.,  42.,  28.,  18.,  12.,\n",
       "         13.,   9.,   4.,   3.,   1.,   1.,   0.,   3.,   1.]),\n",
       " array([  25000.,   33250.,   41500.,   49750.,   58000.,   66250.,\n",
       "          74500.,   82750.,   91000.,   99250.,  107500.,  115750.,\n",
       "         124000.,  132250.,  140500.,  148750.,  157000.,  165250.,\n",
       "         173500.,  181750.,  190000.]),\n",
       " <a list of 20 Patch objects>)"
      ]
     },
     "execution_count": 41,
     "metadata": {},
     "output_type": "execute_result"
    },
    {
     "data": {
      "image/png": "[encoded data removed]",
      "text/plain": [
       "<matplotlib.figure.Figure at 0x1071c61d0>"
      ]
     },
     "metadata": {},
     "output_type": "display_data"
    },
    {
     "data": {
      "image/png": "[encoded data removed]",
      "text/plain": [
       "<matplotlib.figure.Figure at 0x106f849e8>"
      ]
     },
     "metadata": {},
     "output_type": "display_data"
    }
   ],
   "source": [
    "%matplotlib inline\n",
    "#File Reading\n",
    "#Emma Anderson, Big Data, 1/22/16\n",
    "#open and save the file for reading\n",
    "import numpy as np;\n",
    "import statistics as stat;\n",
    "from collections import Counter;\n",
    "import matplotlib.pyplot as plt;\n",
    "\n",
    "data_file = open(\"Housing.csv\", \"r\");\n",
    "#create an empty list to store the data\n",
    "data_list = [];\n",
    "#put all lines from the file into a list\n",
    "for ii in data_file:\n",
    "    data_list.append(ii);\n",
    "\n",
    "#remove the first element (column header)\n",
    "del data_list[0];\n",
    "#create empty lists for westbound and eastbound bikes\n",
    "price = [];\n",
    "price_str = [];\n",
    "lot_size = [];\n",
    "lot_size_str = [];\n",
    "bedrooms = [];\n",
    "bathrooms = [];\n",
    "floors = [];\n",
    "for jj in range(len(data_list)):\n",
    "    #strip off the \\n (newline)\n",
    "    data_list[jj] = data_list[jj].replace(\"\\n\", \"\");\n",
    "    #make into a list of lists of just numbers\n",
    "    data_list[jj] = data_list[jj].split(\",\");\n",
    "    #add data to  lists for price, lot size, bedrooms, bathrooms and floors\n",
    "    price.append(int(data_list[jj][1]));\n",
    "    price_str.append(data_list[jj][1]); ##makes a string list so we can remove the first digit later\n",
    "    lot_size.append(int(data_list[jj][2]));\n",
    "    lot_size_str.append(data_list[jj][2]);\n",
    "    bedrooms.append(int(data_list[jj][3]));\n",
    "    bathrooms.append(int(data_list[jj][4]));\n",
    "    floors.append(int(data_list[jj][5]));\n",
    "    \n",
    "first_price = [];\n",
    "first_lot_size = [];\n",
    "for ii in range(len(price)):\n",
    "    first_price.append(int(price_str[ii][0]))\n",
    "    first_lot_size.append(int(lot_size_str[ii][0]))\n",
    "plt.hist(first_price, bins=(0, 1, 2, 3, 4, 5, 6, 7, 8, 9))\n",
    "plt.title(\"Beneford's Law: Histogram of First Digit of Price\")\n",
    "secondPlot = plt.figure()\n",
    "ax2 = secondPlot.add_subplot(111)\n",
    "ax2.hist(price, bins=(20))\n",
    "secondPlot = plt.figure()\n",
    "ax2 = secondPlot.add_subplot(111)\n",
    "ax2.hist(first_lot_size, bins=(0, 1, 2, 3, 4, 5, 6, 7, 8, 9))"
   ]
  },
  {
   "cell_type": "code",
   "execution_count": null,
   "metadata": {
    "collapsed": true
   },
   "outputs": [],
   "source": []
  },
  {
   "cell_type": "code",
   "execution_count": null,
   "metadata": {
    "collapsed": true
   },
   "outputs": [],
   "source": []
  },
  {
   "cell_type": "code",
   "execution_count": null,
   "metadata": {
    "collapsed": true
   },
   "outputs": [],
   "source": []
  }
 ],
 "metadata": {
  "kernelspec": {
   "display_name": "Python 3",
   "language": "python",
   "name": "python3"
  },
  "language_info": {
   "codemirror_mode": {
    "name": "ipython",
    "version": 3
   },
   "file_extension": ".py",
   "mimetype": "text/x-python",
   "name": "python",
   "nbconvert_exporter": "python",
   "pygments_lexer": "ipython3",
   "version": "3.5.1"
  }
 },
 "nbformat": 4,
 "nbformat_minor": 0
}
