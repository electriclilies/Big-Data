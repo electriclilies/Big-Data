{
 "cells": [
  {
   "cell_type": "markdown",
   "metadata": {},
   "source": [
    "# Introduction\n",
    "\n",
    "K-Nearest Neighbors is a machine learning algorithm. The algorithm's goal is to predict the state of a data point, given other attributes. In this case, the algorithm predicts whether a room is occupied or not, given other information about the room, such as CO2 and light levels, humidity, and temperature. \n",
    "To make the prediction, the data is first split into two sections: the training data and the testing data. The \"split\" is the percentage of the data that is used as training data multipled by 100. Next, the algorithm finds the euclidean distance between a testing data point and all of the training data points. Then, it finds the closest K points to the testing point using simple euclidean distances. These K points are the testing point's \"K-nearest neighbors\". The K-nearest neighbors then vote on what the testing point's state is. With this data set, they'd vote on whether the room was occupied or not. The state with the most votes wins, and is the predicted state for that testing point. This is repeated for every testing point. Finally, the accuracy of the algorithm is computed by comparing the predicted state of each testing point to its actual state. "
   ]
  },
  {
   "cell_type": "markdown",
   "metadata": {},
   "source": [
    "## K-Nearest Neighbors Algorithm\n",
    "Below, I load the k-nearest neighbors algorithm. The algorithm below was adapted from Emma Anderson's adaptation of Jason Brownlee's K-Nearest Neighbors algorithm. (http://machinelearningmastery.com/tutorial-to-implement-k-nearest-neighbors-in-python-from-scratch/)"
   ]
  },
  {
   "cell_type": "code",
   "execution_count": 25,
   "metadata": {
    "collapsed": false
   },
   "outputs": [],
   "source": [
    "%matplotlib inline\n",
    "import csv\n",
    "import random\n",
    "import math\n",
    "import operator\n",
    "import statistics as stat\n",
    "import matplotlib.pyplot as plt\n",
    "import scipy.stats\n",
    "import numpy as np\n",
    "\n",
    "def loadDataset(filename, split, trainingSet, testSet, Range):    \n",
    "    with open(filename, 'r') as csvfile:\n",
    "        lines = csv.reader(csvfile)\n",
    "        dataset = list(lines)\n",
    "        del(dataset[0])\n",
    "        Array = []\n",
    "        for x in range(len(dataset)-1):\n",
    "            #this needs changing for other datasets\n",
    "            for y in Range:\n",
    "                Array.append(float(dataset[x][y]))\n",
    "            if random.random() < split:\n",
    "                trainingSet.append(Array)\n",
    "            else:\n",
    "                testSet.append(Array)\n",
    "            Array = []\n",
    "            \n",
    "def euclideanDistance(item1, item2, attributes):\n",
    "    distance = 0\n",
    "    for x in range(attributes-1):\n",
    "        distance+=(item1[x] - item2[x])**2\n",
    "    return math.sqrt(distance)\n",
    "\n",
    "def getNeighbors(trainingSet, test, k):\n",
    "    distances = []\n",
    "    length = len(test) - 1\n",
    "    for x in range(len(trainingSet)):\n",
    "        dist = euclideanDistance(test, trainingSet[x], length)\n",
    "        distances.append((trainingSet[x], dist))\n",
    "    #sort on the distance, not the data point\n",
    "    distances.sort(key = operator.itemgetter(1))\n",
    "    neighbors = []\n",
    "    for x in range(k):\n",
    "        neighbors.append(distances[x][0])\n",
    "    return neighbors\n",
    "\n",
    "def getResponse(neighbors):\n",
    "    classVotes = {}\n",
    "    for x in range(len(neighbors)):\n",
    "        response = neighbors[x][-1]\n",
    "        if response in classVotes:\n",
    "            classVotes[response]+=1\n",
    "        else:\n",
    "            classVotes[response] = 1\n",
    "    sortedVotes = sorted(classVotes.items(), key=operator.itemgetter(1), reverse = True)\n",
    "    return sortedVotes[0][0]\n",
    "\n",
    "def getAccuracy(testSet, predictions):\n",
    "    correct = 0\n",
    "    for x in range(len(testSet)):\n",
    "        if testSet[x][-1] == predictions[x]:\n",
    "            correct+=1\n",
    "    return (correct/float(len(testSet)))*100.0\n",
    "\n",
    "def main(split, k, Range):\n",
    "    trainingSet = []\n",
    "    testSet = []\n",
    "    #split = 0.30\n",
    "    loadDataset(\"datatraining.txt\", split, trainingSet, testSet, Range)\n",
    "    predictions = []\n",
    "    #k = 3\n",
    "    for x in range(len(testSet)):\n",
    "        neighbors = getNeighbors(trainingSet, testSet[x], k)\n",
    "        result = getResponse(neighbors)\n",
    "        predictions.append(result)\n",
    "        #print('predicted:' + str(result) + ', actual:'+str(testSet[x][-1]))\n",
    "    accuracy = getAccuracy(testSet, predictions)\n",
    "    return accuracy\n",
    "    #print('Accuracy: ' + str(accuracy) + '%')"
   ]
  },
  {
   "cell_type": "markdown",
   "metadata": {},
   "source": [
    "The algorithm above was changed from Emma Anderson's algorithm. The main function was made more general, accepting split, K, and an array of the element numbers of the variables used to calculate the nearest neighbors. "
   ]
  },
  {
   "cell_type": "markdown",
   "metadata": {},
   "source": [
    "## Data Analysis Functions\n",
    "Below, I load in functions used to analyze data. "
   ]
  },
  {
   "cell_type": "code",
   "execution_count": 29,
   "metadata": {
    "collapsed": false
   },
   "outputs": [],
   "source": [
    "def includeIfValue(some_tuple_list, element, operator, value):\n",
    "    new_list = []\n",
    "    if (operator == \"==\"):\n",
    "        for ii in range(len(some_tuple_list)):\n",
    "            if some_tuple_list[ii][element] == value:\n",
    "                new_list.append(some_tuple_list[ii])\n",
    "    elif  (operator == \"<\"):\n",
    "        for ii in range(len(some_tuple_list)):\n",
    "            if some_tuple_list[ii][element] < value:\n",
    "                new_list.append(some_tuple_list[ii])\n",
    "    elif (operator == \">\"):\n",
    "        for ii in range(len(some_tuple_list)):\n",
    "            if some_tuple_list[ii][element] > value:\n",
    "                new_list.append(some_tuple_list[ii])\n",
    "    return new_list\n",
    "    \n",
    "#turns an element of a tuple list into an array\n",
    "def tupleList(some_tuple_list, element):\n",
    "    new_list = []\n",
    "    for ii in range(len(some_tuple_list)):\n",
    "        new_list.append(some_tuple_list[ii][element])\n",
    "    return new_list\n",
    "\n",
    "#averages a column in a tuple list (averageType = mean, median or mode)\n",
    "def averageTuple(some_tuple_list, element, averageType):\n",
    "    new_list = []\n",
    "    for ii in range(len(some_tuple_list)):\n",
    "        new_list.append(some_tuple_list[ii][element])\n",
    "    try:\n",
    "        if averageType == \"mean\":\n",
    "            return stat.mean(new_list)\n",
    "        if averageType == \"median\":\n",
    "            return stat.median(new_list)\n",
    "        if averageType == \"mode\":\n",
    "            return stat.mode(new_list)\n",
    "    except:\n",
    "        print(\"No data points found\")\n",
    "        return 0\n",
    "\n",
    "def newPlot(title, xlabel, ylabel):\n",
    "    secondPlot = plt.figure()\n",
    "    ax2 = secondPlot.add_subplot(111)\n",
    "    plt.title(title)\n",
    "    plt.xlabel(xlabel)\n",
    "    plt.ylabel(ylabel)\n",
    "    \n",
    "def createScatter(some_tuple_list, elementx, elementy):\n",
    "    new_listx = []\n",
    "    new_listy = []\n",
    "    for ii in range(len(some_tuple_list)):\n",
    "        new_listx.append(some_tuple_list[ii][elementx])\n",
    "        new_listy.append(some_tuple_list[ii][elementy])\n",
    "    plt.scatter(new_listx, new_listy)"
   ]
  },
  {
   "cell_type": "markdown",
   "metadata": {
    "collapsed": false
   },
   "source": [
    "## Accuracy of K-Nearest Neighbors Algorithm Dataset\n",
    "Next, I created a data set of trials, recording the split, k-value and accuracy. Ten iterations were done for each K value between 1 and 10, and each split value between 0.01 and 0.05. The code I used to create that data set is below, but a file named 'example.txt' will be generated when the code is run. In addition, because of the number of iterations, the code below will take a long time to run. "
   ]
  },
  {
   "cell_type": "code",
   "execution_count": 92,
   "metadata": {
    "collapsed": false
   },
   "outputs": [
    {
     "name": "stdout",
     "output_type": "stream",
     "text": [
      "done\n"
     ]
    }
   ],
   "source": [
    "iterations = 10 \n",
    "kMax = 10\n",
    "splitMax = 0.05\n",
    "\n",
    "text_file = open(\"example.txt\", \"w\")\n",
    "text_file.write(\"K,split,accuracy\")\n",
    "\n",
    "for x in range(1, int(splitMax*100)+1):\n",
    "    for k in range(1, kMax+1): \n",
    "        for j in range(1, iterations+1): \n",
    "            text_file.write(str(k))\n",
    "            text_file.write(\",\")\n",
    "            text_file.write(str(x/100))\n",
    "            text_file.write(\",\")\n",
    "            text_file.write(str(main(x/100,k,range(2,8))))\n",
    "            text_file.write(\"\\n\")\n",
    "text_file.close()\n",
    "\n",
    "print(\"done\") "
   ]
  },
  {
   "cell_type": "code",
   "execution_count": 30,
   "metadata": {
    "collapsed": false
   },
   "outputs": [],
   "source": [
    "with open('splitdata.txt', 'r') as csvfile:\n",
    "        lines2 = csv.reader(csvfile)\n",
    "        dataset2 = list(lines2)\n",
    "        del(dataset2[0])\n",
    "        splitData = []\n",
    "        for x in range(len(dataset2)-1):\n",
    "            Tuple = (int(dataset2[x][0]), \n",
    "                     float(dataset2[x][1]), #split\n",
    "                     float(dataset2[x][2])) #accuracy\n",
    "            splitData.append(Tuple)\n",
    "            \n",
    "\n",
    "K1 = includeIfValue(splitData, 0, \"==\", 1)\n",
    "K2 = includeIfValue(splitData, 0, \"==\", 2)\n",
    "K3 = includeIfValue(splitData, 0, \"==\", 3)\n",
    "K4 = includeIfValue(splitData, 0, \"==\", 4)\n",
    "K5 = includeIfValue(splitData, 0, \"==\", 5)\n",
    "K6 = includeIfValue(splitData, 0, \"==\", 6)\n",
    "K7 = includeIfValue(splitData, 0, \"==\", 7)\n",
    "K8 = includeIfValue(splitData, 0, \"==\", 8)\n",
    "K9 = includeIfValue(splitData, 0, \"==\", 9)\n",
    "K10 = includeIfValue(splitData, 0, \"==\", 10)\n",
    "\n",
    "averagesList = [(1, averageTuple(K1, 2, \"mean\")), \n",
    "                (2, averageTuple(K2, 2, \"mean\")), \n",
    "                (3, averageTuple(K3, 2, \"mean\")), \n",
    "                (4, averageTuple(K4, 2, \"mean\")), \n",
    "                (5, averageTuple(K5, 2, \"mean\")), \n",
    "                (6, averageTuple(K6, 2, \"mean\")), \n",
    "                (7, averageTuple(K7, 2, \"mean\")), \n",
    "                (8, averageTuple(K8, 2, \"mean\")),\n",
    "                (9, averageTuple(K9, 2, \"mean\")), \n",
    "                (10, averageTuple(K10, 2, \"mean\"))]"
   ]
  },
  {
   "cell_type": "markdown",
   "metadata": {},
   "source": [
    "## Figure 1: Accuracy vs K Values\n",
    "In the plot below, the average accuracy of each K value in the data set is plotted versus K value. Various splits (0.01-0.05) were used for each K value, and the accuracy of each split K-value pair was calculated 10 times. "
   ]
  },
  {
   "cell_type": "code",
   "execution_count": 31,
   "metadata": {
    "collapsed": false
   },
   "outputs": [
    {
     "data": {
      "image/png": "[encoded data removed]",
      "text/plain": [
       "<matplotlib.figure.Figure at 0x10738eb00>"
      ]
     },
     "metadata": {},
     "output_type": "display_data"
    }
   ],
   "source": [
    "newPlot(\"Accuracy vs K Values\", \"K Values\" , \"Accuracy\")\n",
    "createScatter(averagesList, 0, 1)"
   ]
  },
  {
   "cell_type": "markdown",
   "metadata": {},
   "source": [
    "Figure 1 illustrates that for low splits, there is not a large difference in accuracy for K values between 1 and 10, as the averate acuracy ranges between 97.1 and 98.3. However, the K values of 2 and 4 had a lot lower accuracy than the other K values, and don't appear to fit the curve of other data points. This could be due to variations within the training and test data, or the fact that because 2 and 4 are even numbers, the K-nearest neighbors could be tied, which would result in an incorrect prediction. The most accurate K value in this data set is 5. "
   ]
  },
  {
   "cell_type": "markdown",
   "metadata": {},
   "source": [
    "## Most Accurate Variables\n",
    "Below, I looked at the average accuracy of the algorithm when different variables are used. The function used to calculate the average accuracy for each takes in an array of the variables used, the number of iterations, the k value and the split. I used a K value of 5, as it was determined to be the most accurate K value in Figure 1, a split of 0.05 (around 400 data points). The files analyzed later in this section are not the files that will be generated by the cell below: it creates two files called 'example2.txt' and 'example3.txt'. "
   ]
  },
  {
   "cell_type": "code",
   "execution_count": 35,
   "metadata": {
    "collapsed": false
   },
   "outputs": [
    {
     "name": "stdout",
     "output_type": "stream",
     "text": [
      "done with one\n",
      "done with one\n",
      "done with one\n",
      "done with one\n",
      "done with one\n",
      "done with all\n",
      "done with one\n",
      "done with one\n",
      "done with one\n",
      "done with one\n",
      "done with one\n",
      "done with one\n",
      "done with one\n",
      "done with one\n",
      "done with one\n",
      "done with one\n",
      "done with all\n"
     ]
    }
   ],
   "source": [
    "def writeFile(Variables, iterations, K, split):\n",
    "    avgSum = 0\n",
    "    for kk in range(len(Variables)):\n",
    "        for ii in range(1, iterations+1):\n",
    "            avgSum+=main(split, K, Variables[kk])\n",
    "        text_file.write(str(K))\n",
    "        text_file.write(\",\")\n",
    "        text_file.write(str(split))\n",
    "        text_file.write(\",\")\n",
    "        text_file.write(str(multipleVariables[kk]))\n",
    "        text_file.write(\",\")\n",
    "        text_file.write(str(iterations))\n",
    "        text_file.write(\",\")\n",
    "        text_file.write(str(avgSum/iterations))\n",
    "        text_file.write(\"\\n\")\n",
    "        avgSum = 0\n",
    "        \n",
    "        print(\"done with one\")\n",
    "    text_file.close()\n",
    "    print(\"done with all\")\n",
    "    \n",
    "    \n",
    "singleVariables = [[2,7], [3,7], [4,7], [5,7], [6,7]]\n",
    "multipleVariables = [[2, 3, 7], \n",
    "                     [2, 4, 7], \n",
    "                     [2, 5, 7],\n",
    "                     [2, 6, 7],\n",
    "                     [3, 4, 7],\n",
    "                     [3, 5, 7],\n",
    "                     [3, 6, 7], \n",
    "                     [4, 5, 7],\n",
    "                     [4, 6, 7],\n",
    "                     [5, 6, 7]]\n",
    "text_file = open(\"example2.txt\", \"w\")\n",
    "text_file.write(\"K,split,variable,iterations,accuracy\\n\")\n",
    "writeFile(singleVariables, 10, 5, 0.05)\n",
    "\n",
    "text_file = open(\"example3.txt\", \"w\")\n",
    "text_file.write(\"K,split,variable,iterations,accuracy\\n\")\n",
    "writeFile(multipleVariables, 10, 5, 0.05)\n"
   ]
  },
  {
   "cell_type": "markdown",
   "metadata": {},
   "source": [
    "## Accuracy with a Single Variable\n",
    "In the cell below, I read the datafile 'bestvariablesingle.txt' into a tuple list. "
   ]
  },
  {
   "cell_type": "code",
   "execution_count": 36,
   "metadata": {
    "collapsed": false
   },
   "outputs": [],
   "source": [
    "with open('bestvariablesingle.txt', 'r') as csvfile:\n",
    "        lines3 = csv.reader(csvfile)\n",
    "        dataset3 = list(lines3)\n",
    "        del(dataset3[0])\n",
    "        singleVariableData = []\n",
    "        for x in range(len(dataset3)):\n",
    "            Tuple = (int(dataset3[x][0]), #K\n",
    "                     float(dataset3[x][1]), #split\n",
    "                     dataset3[x][2] + \",\" + dataset3[x][3], #variable 2\n",
    "                     int(dataset3[x][4]), #iterations\n",
    "                     float(dataset3[x][5])) #accuracy\n",
    "            singleVariableData.append(Tuple)\n",
    "            \n",
    "accuracySingle = tupleList(singleVariableData, 4)"
   ]
  },
  {
   "cell_type": "markdown",
   "metadata": {},
   "source": [
    "### Figure 2: Accuracy a with Single Variable"
   ]
  },
  {
   "cell_type": "code",
   "execution_count": 37,
   "metadata": {
    "collapsed": false
   },
   "outputs": [
    {
     "data": {
      "text/plain": [
       "<Container object of 5 artists>"
      ]
     },
     "execution_count": 37,
     "metadata": {},
     "output_type": "execute_result"
    },
    {
     "data": {
      "image/png": "[encoded data removed]",
      "text/plain": [
       "<matplotlib.figure.Figure at 0x1070a09e8>"
      ]
     },
     "metadata": {},
     "output_type": "display_data"
    }
   ],
   "source": [
    "secondPlot = plt.figure()\n",
    "ax2 = secondPlot.add_subplot(111)\n",
    "plt.axis([0, 5, 0, 100])\n",
    "plt.title(\"Average Accuracy when K is Calculated Using a Single Variable\\n\")\n",
    "plt.xlabel(\"Temperature    Humidity          Light                CO2        Humidity Ratio     \")\n",
    "plt.ylabel(\"Average Accuracy (percent)\\n\")\n",
    "ax2.bar(np.arange(len(accuracySingle)), accuracySingle)"
   ]
  },
  {
   "cell_type": "markdown",
   "metadata": {},
   "source": [
    "As you can see in the bar graph above, the differences in accuracy when temperature, humidity, light, CO2, and humidity ratio were used were very low. In the raw data, the accuracy hovered around 78% for all variables, and then dipped to around 21% in rare cases. Altering the K value did not seem to change this, but making the split larger (0.5 as opposed to 0.05) brought the acccuracy down to around the 21% mark. I am not sure why this is. "
   ]
  },
  {
   "cell_type": "markdown",
   "metadata": {},
   "source": [
    "## Accuracy of Variable Pairs\n",
    "In the cell below, I read the datafile 'bestvariabledouble.txt' into a tuple list. "
   ]
  },
  {
   "cell_type": "code",
   "execution_count": 38,
   "metadata": {
    "collapsed": false
   },
   "outputs": [],
   "source": [
    "with open('bestvariabledouble.txt', 'r') as csvfile:\n",
    "        lines4 = csv.reader(csvfile)\n",
    "        dataset4 = list(lines4)\n",
    "        del(dataset4[0])\n",
    "        doubleVariableData = []\n",
    "        for x in range(len(dataset4)):\n",
    "            Tuple = (int(dataset4[x][0]), #K\n",
    "                     float(dataset4[x][1]), #split\n",
    "                     dataset4[x][2] + \",\" + dataset4[x][3] + \",\" + dataset4[x][4], #variable 2\n",
    "                     int(dataset4[x][5]), #iterations\n",
    "                     float(dataset4[x][6])) #accuracy\n",
    "            doubleVariableData.append(Tuple)\n",
    "\n",
    "accuracyDouble = tupleList(doubleVariableData, 4)"
   ]
  },
  {
   "cell_type": "markdown",
   "metadata": {},
   "source": [
    "### Figure 3: Accuracy of Variable Pairs"
   ]
  },
  {
   "cell_type": "code",
   "execution_count": 39,
   "metadata": {
    "collapsed": false
   },
   "outputs": [
    {
     "data": {
      "text/plain": [
       "<matplotlib.text.Text at 0x107397d30>"
      ]
     },
     "execution_count": 39,
     "metadata": {},
     "output_type": "execute_result"
    },
    {
     "data": {
      "image/png": "[encoded data removed]",
      "text/plain": [
       "<matplotlib.figure.Figure at 0x1074eeef0>"
      ]
     },
     "metadata": {},
     "output_type": "display_data"
    }
   ],
   "source": [
    "secondPlot = plt.figure()\n",
    "ax2 = secondPlot.add_subplot(111)\n",
    "ax2.bar(np.arange(len(accuracyDouble)), accuracyDouble)\n",
    "plt.title(\"Average Accuracy when K is Calculated Using Two Variables\\n\")\n",
    "plt.xlabel(\"Variable Pair\")\n",
    "plt.ylabel(\"Average Accuracy (percent)\\n\")"
   ]
  },
  {
   "cell_type": "markdown",
   "metadata": {},
   "source": [
    "I could not figure out how to label each bar on the bar graph (I did it crudely in Figure 2, but that method won't fit here), so I am listing the variable pairs shown on the bar graph from left to right. \n",
    "1. Temperature, Humidity\n",
    "2. Temperature, Light\n",
    "3. Temperature, CO2\n",
    "4. Temperature, Humidity Ratio\n",
    "5. Humidity, Light\n",
    "6. Humidity, CO2\n",
    "7. Humidity, Humidity Ratio\n",
    "8. Light, CO2\n",
    "9. Light, Humidity Ratio\n",
    "10. CO2, Humidity Ratio\n",
    "\n",
    "In the graph above, two variable pairs did a lot better than the other variable pairs-- Light and CO2 (8), and Light and Humidity Ratio (9). These pairs had an accuracy rate of around 98%, while the others hovered around 80%. The pair CO2 and Humidity Ratio (10) also had a higher accuracy rate of around 91%. "
   ]
  },
  {
   "cell_type": "markdown",
   "metadata": {},
   "source": [
    "# Conclusion\n",
    "In this lab, I ran a machine learning algorithm that predicted whether a room was occupied or not based on a variety of information about the room. I found that the algorithm was not largely affect by changes in split, or in K value. Low splits were nearly as or even more accurate than higher ones, and ran much faster. K values between 1 and 10 had very high accuracy, of around 97%, however the K value of 5 had the highest average accuracy. In general, even numbers had lower accuracies, because points whose nearest neighbors were in a tie would be assigned to be occupied or unoccupied randomly. \n",
    "\n",
    "When a single variable was used to determine whether a room was occupied, the accuracy went down across the board. In this case it went down to around 78%, with very little differences between the variables' accuracy. However, when a second variable was introduced, differences in accuracy emerged. Light and CO2, and Light and Humidity Ratio, had the highest average accuracy at around 98%. The runner up was CO2 and Humidity Ratio, at around 91%. Interestingly, these top two pairs had an accuracy that is around the same as the accuracy when room occupancy is determined using all variables. "
   ]
  }
 ],
 "metadata": {
  "kernelspec": {
   "display_name": "Python 3",
   "language": "python",
   "name": "python3"
  },
  "language_info": {
   "codemirror_mode": {
    "name": "ipython",
    "version": 3
   },
   "file_extension": ".py",
   "mimetype": "text/x-python",
   "name": "python",
   "nbconvert_exporter": "python",
   "pygments_lexer": "ipython3",
   "version": "3.5.1"
  }
 },
 "nbformat": 4,
 "nbformat_minor": 0
}
