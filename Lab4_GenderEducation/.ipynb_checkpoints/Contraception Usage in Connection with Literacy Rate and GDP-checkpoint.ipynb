{
 "cells": [
  {
   "cell_type": "markdown",
   "metadata": {},
   "source": [
    "# 1. Contraception Usage in Connection with Literacy Rate and GDP\n",
    "## 1.1 Introduction\n",
    "In this lab, I analyze the connections between literacy rate, GDP (PPP per capita in current international dollars) and contraception use in countries around the world. Literacy rate is the percentage of people of age 15+ who can read and write, split into male and female categories. GDP stands for gross domestic product, PPP stands for purchasing power parity, and per capita means per person. Put together, GDP PPP per capita in current international dollars is the average income of a person in a given country, adjusted for variables like the cost of living, in current international dollars. Contraception usage was quantified through three variables: percentage of women using any contraception method, percentage of women using a modern contraception method, and percentage of women who use condoms. The women surveyed were ages 15-49, and were married or in a union. \n",
    "The three data sets I analyzed were from different sources. Literacy rates and GDP (ppp per captia) were obtained from the World Bank, while contraception use was obtained from the UN. However, it is important to note that while the UN compiled contraception use into one document, the data was not collected by the UN itelf, but by other organizations. These surveys about contraception were implemented by groups such as UNICEF, the Arab League of Nations, and the CDC. Specific information about these sources can be found on in the file listed in the bibliography at the bottom of this document. \n",
    "In addition, because of the difficulty of collecting data on such a large scale, the data sets for literacy rates and \n",
    "Below, I read in my data, and functions necessary to analyze it. \n",
    "Note: The cell below can take a long time to load. It will print \"done\" when it has completed running. "
   ]
  },
  {
   "cell_type": "markdown",
   "metadata": {},
   "source": [
    "## 1.2 Reading in GDP (ppp per capita), GDP and Literacy Rates"
   ]
  },
  {
   "cell_type": "code",
   "execution_count": 173,
   "metadata": {
    "collapsed": false
   },
   "outputs": [
    {
     "name": "stdout",
     "output_type": "stream",
     "text": [
      "done\n"
     ]
    }
   ],
   "source": [
    "%matplotlib inline\n",
    "import numpy as np\n",
    "import statistics as stat\n",
    "import matplotlib.pyplot as plt\n",
    "import scipy.stats\n",
    "import csv\n",
    "import math\n",
    "\n",
    "#read in contraception data\n",
    "with open('contraceptiveUN.csv', 'r') as f:\n",
    "    reader = csv.reader(f)\n",
    "    data_list = list(reader)\n",
    "\n",
    "removed = 0\n",
    "# \"..\" is no value\n",
    "\n",
    "#contraception arrays\n",
    "\n",
    "code = [] #column 0\n",
    "country = [] #column 1\n",
    "year = [] #column 2\n",
    "any_method = [] #column 3\n",
    "modern_method = [] #column 4\n",
    "condom = [] #column 5\n",
    "    \n",
    "for kk in range(len(data_list)-1):\n",
    "    \n",
    "    code.append(data_list[kk][0])\n",
    "    country.append(data_list[kk][1])\n",
    "    year.append(float(data_list[kk][2]))\n",
    "    any_method.append(data_list[kk][3])\n",
    "    modern_method.append(data_list[kk][4])\n",
    "    condom.append(data_list[kk][5])\n",
    "    \n",
    "#create list of contraception data\n",
    "contraception_list = []\n",
    "for ii in range(len(country)):\n",
    "    if (any_method[ii] != '..') and (modern_method[ii] != '..') and (condom[ii] != '..'):\n",
    "        Tuple = (code[ii], #0\n",
    "                 country[ii], #1 \n",
    "                 year[ii], #2\n",
    "                 float(any_method[ii]), #3\n",
    "                 float(modern_method[ii]), #4\n",
    "                 float(condom[ii]), #%\n",
    "                 float(any_method[ii])-float(modern_method[ii]),\n",
    "                 float(any_method[ii])-float(condom[ii]),\n",
    "                 float(modern_method[ii])-float(condom[ii]))\n",
    "        contraception_list.append(Tuple)\n",
    "\n",
    "#read in ppp GDP per capita data\n",
    "with open('pppGDPperCapita.csv', 'r') as f:\n",
    "    reader = csv.reader(f)\n",
    "    data_list2 = list(reader)\n",
    "\n",
    "# \"..\" is no value\n",
    "GDP_list = []\n",
    "\n",
    "del(data_list2[0])\n",
    "\n",
    "#creates a tuple list of the countries and their GDPs by year\n",
    "for ii in range(len(data_list2)):\n",
    "    #1990\n",
    "    if(data_list2[ii][4] != '..'):\n",
    "        Tuple = (data_list2[ii][3], #country code (STR)\n",
    "                data_list2[ii][2], #country name \n",
    "                 1990, #year\n",
    "                 float(data_list2[ii][4])) #ppp GDP per capita\n",
    "        GDP_list.append(Tuple)\n",
    "    #2000\n",
    "    if(data_list2[ii][5] != '..'):\n",
    "        Tuple = (data_list2[ii][3], #country code (STR)\n",
    "                data_list2[ii][2], #country name \n",
    "                2000, #year\n",
    "                float(data_list2[ii][5])) #ppp GDP per capita\n",
    "        GDP_list.append(Tuple)\n",
    "    #2006\n",
    "    if(data_list2[ii][6] != '..'):\n",
    "        Tuple = (data_list2[ii][3], #country code (STR)\n",
    "                data_list2[ii][2], #country name \n",
    "                 2006, #year\n",
    "                 float(data_list2[ii][6])) #ppp GDP per capita\n",
    "        GDP_list.append(Tuple)\n",
    "    #2007\n",
    "    if(data_list2[ii][7] != '..'):\n",
    "        Tuple = (data_list2[ii][3], #country code (STR)\n",
    "                data_list2[ii][2], #country name \n",
    "                2007, #year\n",
    "                float(data_list2[ii][7])) #ppp GDP per capita\n",
    "        GDP_list.append(Tuple)\n",
    "    #2008\n",
    "    if(data_list2[ii][8] != '..'):\n",
    "        Tuple = (data_list2[ii][3], #country code (STR)\n",
    "                data_list2[ii][2], #country name \n",
    "                 2008, #year\n",
    "                 float(data_list2[ii][8])) #ppp GDP per capita\n",
    "        GDP_list.append(Tuple)\n",
    "    #2009\n",
    "    if(data_list2[ii][9] != '..'):\n",
    "        Tuple = (data_list2[ii][3], #country code (STR)\n",
    "                data_list2[ii][2], #country name \n",
    "                2009, #year\n",
    "                float(data_list2[ii][9])) #ppp GDP per capita\n",
    "        GDP_list.append(Tuple)\n",
    "    #2010\n",
    "    if(data_list2[ii][10] != '..'):\n",
    "        Tuple = (data_list2[ii][3], #country code (STR)\n",
    "                data_list2[ii][2], #country name \n",
    "                2010, #year\n",
    "                float(data_list2[ii][10])) #ppp GDP per capita\n",
    "        GDP_list.append(Tuple)\n",
    "    #2011\n",
    "    if(data_list2[ii][11] != '..'):\n",
    "        Tuple = (data_list2[ii][3], #country code (STR)\n",
    "                data_list2[ii][2], #country name \n",
    "                 2011, #year\n",
    "                 float(data_list2[ii][11])) #ppp GDP per capita\n",
    "        GDP_list.append(Tuple)\n",
    "    #2012\n",
    "    if(data_list2[ii][12] != '..'):\n",
    "        Tuple = (data_list2[ii][3], #country code (STR)\n",
    "                data_list2[ii][2], #country name \n",
    "                 2012, #year\n",
    "                 float(data_list2[ii][12])) #ppp GDP per capita\n",
    "        GDP_list.append(Tuple)\n",
    "    #2013\n",
    "    if(data_list2[ii][13] != '..'):\n",
    "        Tuple = (data_list2[ii][3], #country code (STR)\n",
    "                data_list2[ii][2], #country name \n",
    "                 2007, #year\n",
    "                 float(data_list2[ii][13])) #ppp GDP per capita\n",
    "        GDP_list.append(Tuple)    \n",
    "\n",
    "#country code file: creating a dictionary\n",
    "with open('countrycodes.csv', 'r') as f:\n",
    "    reader = csv.reader(f)\n",
    "    data_list3 = list(reader)\n",
    "    \n",
    "del(data_list3[0])\n",
    "\n",
    "country_code = {}\n",
    "#creating dictionary: number code, string code\n",
    "for jj in range(len(data_list3)): \n",
    "    country_code[data_list3[jj][0]] = data_list3[jj][2]\n",
    "\n",
    "#literacy rates CSV\n",
    "with open('literacyrates.csv', 'r') as f:\n",
    "    reader = csv.reader(f)\n",
    "    data_list4 = list(reader)\n",
    "    \n",
    "#LIST INDEX OUT OF RANGE\n",
    "literacyRate = []\n",
    "for ii in range(1, len(data_list4)):\n",
    "    for kk in range(2, 25, 2): #from 2 to 25, skip by 2s\n",
    "        if (data_list4[ii][kk] != '..') and (data_list4[ii][kk+1] !='..'):\n",
    "            Tuple = (data_list4[ii][1], #country code (str)\n",
    "                     float(data_list4[0][kk][0:4]), #year\n",
    "                     float(data_list4[ii][kk]), #adult literacy rate 15+ female\n",
    "                     float(data_list4[ii][kk+1])) #adult literacy rate 15+ male\n",
    "            literacyRate.append(Tuple)\n",
    "    \n",
    "#GDP and Contraception Data: Overlapping Years\n",
    "GDP_Contraception = []\n",
    "for ii in range(len(contraception_list)):\n",
    "    for kk in range(len(GDP_list)):\n",
    "        if (country_code[contraception_list[ii][0]]==GDP_list[kk][0]) and (contraception_list[ii][2]==GDP_list[kk][2]):\n",
    "            Tuple = (contraception_list[ii][0], #column 0: country code (number)\n",
    "                    contraception_list[ii][1], #column 1: country name\n",
    "                    contraception_list[ii][2], #column 2: year\n",
    "                    contraception_list[ii][3], #column 3: any method\n",
    "                    contraception_list[ii][4], #column 4: modern method\n",
    "                    contraception_list[ii][5], #column 5: condom\n",
    "                    GDP_list[kk][3], #column 6: GDP ppp\n",
    "                    contraception_list[ii][6], #column 7: difference between anymethod and modern method) \n",
    "                    contraception_list[ii][7], #column 8: difference between anymethod and condom\n",
    "                    contraception_list[ii][8]) #column 9: difference between modern method and condom\n",
    "            GDP_Contraception.append(Tuple)\n",
    "\n",
    "\n",
    "#literacy rate and contraception data: overlapping years\n",
    "literacy_Contraception = []\n",
    "for ii in range(len(literacyRate)):\n",
    "    for kk in range(len(contraception_list)):\n",
    "        if (literacyRate[ii][0]==country_code[contraception_list[kk][0]]) and (literacyRate[ii][1]==contraception_list[kk][2]):\n",
    "            Tuple = (contraception_list[kk][0], #0: country code\n",
    "                     contraception_list[kk][1], #1: country name\n",
    "                     contraception_list[kk][2], #2: year\n",
    "                     contraception_list[kk][3], #column 3: any method\n",
    "                     contraception_list[kk][4], #column 4: modern method\n",
    "                     contraception_list[kk][5], #column 5: condom\n",
    "                     literacyRate[ii][2], #column 6: adult literacy rate 15+ female\n",
    "                     literacyRate[ii][3]) #column 7: adult literacy rate 15+ male\n",
    "            literacy_Contraception.append(Tuple)\n",
    "\n",
    "print(\"done\")"
   ]
  },
  {
   "cell_type": "markdown",
   "metadata": {},
   "source": [
    "## 1.3 Reading in Functions for Processing Data Stored in Tuple Lists"
   ]
  },
  {
   "cell_type": "code",
   "execution_count": 175,
   "metadata": {
    "collapsed": false
   },
   "outputs": [],
   "source": [
    "def includeIfValue(some_tuple_list, element, operator, value):\n",
    "    new_list = []\n",
    "    if (operator == \"==\"):\n",
    "        for ii in range(len(some_tuple_list)):\n",
    "            if some_tuple_list[ii][element] == value:\n",
    "                new_list.append(some_tuple_list[ii])\n",
    "    elif  (operator == \"<\"):\n",
    "        for ii in range(len(some_tuple_list)):\n",
    "            if some_tuple_list[ii][element] < value:\n",
    "                new_list.append(some_tuple_list[ii])\n",
    "    elif (operator == \">\"):\n",
    "        for ii in range(len(some_tuple_list)):\n",
    "            if some_tuple_list[ii][element] > value:\n",
    "                new_list.append(some_tuple_list[ii])\n",
    "    return new_list\n",
    "    \n",
    "#reads in a tuple list, a function that returns a boolean (input is a tuple), and a value\n",
    "#returns a list of tuples\n",
    "def newTupleList(some_tuple_list, f, Value):\n",
    "    new_list = []\n",
    "    for ii in range(len(some_tuple_list)):\n",
    "        if (f(some_tuple_list[ii], Value)):\n",
    "            new_list.append(some_tuple_list[ii])\n",
    "    return new_list\n",
    "\n",
    "#prints an element of a tuple list\n",
    "def printElementOf(some_tuple_list, element):\n",
    "    for ii in range(len(some_tuple_list)):\n",
    "        print(some_tuple_list[ii][element])\n",
    "\n",
    "#turns an element of a tuple list into an array\n",
    "def tupleList(some_tuple_list, element):\n",
    "    new_list = []\n",
    "    for ii in range(len(some_tuple_list)):\n",
    "        new_list.append(some_tuple_list[ii][element])\n",
    "    return new_list\n",
    "\n",
    "#finds the percent of an element in a list that is a value\n",
    "def percent(some_tuple_list, element, value):\n",
    "    elementPresent = 0\n",
    "    for ii in range(len(some_tuple_list)):\n",
    "        if some_tuple_list[ii][element] == value:\n",
    "            elementPresent+=1\n",
    "    return (elementPresent/len(some_tuple_list))*100\n",
    "\n",
    "#averages a column in a tuple list (averageType = mean, median or mode)\n",
    "def averageTuple(some_tuple_list, element, averageType):\n",
    "    new_list = []\n",
    "    for ii in range(len(some_tuple_list)):\n",
    "        new_list.append(some_tuple_list[ii][element])\n",
    "    try:\n",
    "        if averageType == \"mean\":\n",
    "            return stat.mean(new_list)\n",
    "        if averageType == \"median\":\n",
    "            return stat.median(new_list)\n",
    "        if averageType == \"mode\":\n",
    "            return stat.mode(new_list)\n",
    "    except:\n",
    "        print(\"No data points found\")\n",
    "        return 0\n",
    "        \n",
    "#finds the correlation coefficient bewteen two elements in a tuple array\n",
    "def pearsonRTuple(some_tuple_list, element1, element2):\n",
    "    new_list1 = []\n",
    "    new_list2 = []\n",
    "    for ii in range(len(some_tuple_list)):\n",
    "        new_list1.append(some_tuple_list[ii][element1])\n",
    "        new_list2.append(some_tuple_list[ii][element2])\n",
    "    return scipy.stats.pearsonr(new_list1, new_list2)[0]\n",
    "    \n",
    "#creates a histogram of an element in a tuple array, with a specified bin size\n",
    "#if bin_size = 0, auto sets binsize\n",
    "def createHist(some_tuple_list, element, bin_size):\n",
    "    new_list = []\n",
    "    for ii in range(len(some_tuple_list)):\n",
    "        new_list.append(some_tuple_list[ii][element])\n",
    "    maximum = int(math.ceil(max(new_list)))\n",
    "    if bin_size != 0: \n",
    "        bins_list = []\n",
    "        for hh in range(int(math.ceil(maximum/bin_size))):\n",
    "            bins_list.append(bin_size*hh)\n",
    "        plt.hist(new_list, bins_list)\n",
    "    else: \n",
    "        plt.hist(new_list)\n",
    "\n",
    "def createScatter(some_tuple_list, elementx, elementy):\n",
    "    new_listx = []\n",
    "    new_listy = []\n",
    "    for ii in range(len(some_tuple_list)):\n",
    "        new_listx.append(some_tuple_list[ii][elementx])\n",
    "        new_listy.append(some_tuple_list[ii][elementy])\n",
    "    plt.scatter(new_listx, new_listy)\n",
    "    \n",
    "def createScatterColor(some_tuple_list, elementx, elementy, color):\n",
    "    new_listx = []\n",
    "    new_listy = []\n",
    "    for ii in range(len(some_tuple_list)):\n",
    "        new_listx.append(some_tuple_list[ii][elementx])\n",
    "        new_listy.append(some_tuple_list[ii][elementy])\n",
    "    plt.scatter(new_listx, new_listy, c=color)\n",
    "    \n",
    "def newPlot(title, xlabel, ylabel):\n",
    "    secondPlot = plt.figure()\n",
    "    ax2 = secondPlot.add_subplot(111)\n",
    "    plt.title(title)\n",
    "    plt.xlabel(xlabel)\n",
    "    plt.ylabel(ylabel)\n",
    "\n",
    "def newLogPlotY(title, xlabel, ylabel):\n",
    "    secondPlot = plt.figure()\n",
    "    ax2 = secondPlot.add_subplot(111)\n",
    "    ax2.set_yscale(\"log\")\n",
    "    plt.title(title)\n",
    "    plt.xlabel(xlabel)\n",
    "    plt.ylabel(ylabel)\n",
    "    \n",
    "def newLogPlotX(title, xlabel, ylabel):\n",
    "    secondPlot = plt.figure()\n",
    "    ax2 = secondPlot.add_subplot(111)\n",
    "    ax2.set_xscale(\"log\")\n",
    "    plt.title(title)\n",
    "    plt.xlabel(xlabel)\n",
    "    plt.ylabel(ylabel)"
   ]
  },
  {
   "cell_type": "markdown",
   "metadata": {},
   "source": [
    "# 2. Contraceptive Use\n",
    "## 2.1 Mean Contraceptive Use"
   ]
  },
  {
   "cell_type": "code",
   "execution_count": 176,
   "metadata": {
    "collapsed": false
   },
   "outputs": [
    {
     "name": "stdout",
     "output_type": "stream",
     "text": [
      "Mean Women using Any Contraception Methods 48.06614060258249 %\n",
      "Mean Women using Modern Contraception Methods: 39.017073170731706 %\n",
      "Mean Women using Condoms: 6.496126255380201 %\n"
     ]
    }
   ],
   "source": [
    "print(\"Mean Women using Any Contraception Methods\", averageTuple(contraception_list, 3, \"mean\"), \"%\")\n",
    "print(\"Mean Women using Modern Contraception Methods:\", averageTuple(contraception_list, 4, \"mean\"), \"%\")\n",
    "print(\"Mean Women using Condoms:\", averageTuple(contraception_list, 5, \"mean\"), \"%\")"
   ]
  },
  {
   "cell_type": "markdown",
   "metadata": {},
   "source": [
    "Worldwide, an average of 48% of women in any given country use any method of contraception, while an average of 39% use a modern method. \n",
    "However, on average, only 6.5% of women used condoms. While this seems low at first, it can be accounted for by the fact that the women surveyed are women in unions. According to NAMAidsmap, people are far less likely to use condoms with their primary partner than other partners. In one survey in Nigeria, \"2/3 of respondants reported 'always' using condoms during casual sex, 1/3 with a boyfriend or girlfriend--and just 2% with a spouse\" (\"Condom Use in the Real World\"). \n",
    "The difference in percentage of women using contraception and those using condoms can also be accounted for by the fact that condoms are used to prevent the spread of STDs. If women believe that their primary partner is STD-free, and is only having sex with them, there is no reason to use condoms. This indicates that most contraception usage among women in unions is to prevent pregnancy. "
   ]
  },
  {
   "cell_type": "markdown",
   "metadata": {},
   "source": [
    "## 2.2 Correlation Between Types of Contraception Usage"
   ]
  },
  {
   "cell_type": "code",
   "execution_count": 177,
   "metadata": {
    "collapsed": false
   },
   "outputs": [
    {
     "name": "stdout",
     "output_type": "stream",
     "text": [
      "Correlation between any method and modern method: 0.924947931301\n",
      "Correlation between any method and condom use: 0.516053244044\n",
      "Correlation between modern method and condom use: 0.478085399147\n"
     ]
    }
   ],
   "source": [
    "print(\"Correlation between any method and modern method:\", pearsonRTuple(contraception_list, 3, 4))\n",
    "print(\"Correlation between any method and condom use:\", pearsonRTuple(contraception_list, 3, 5))\n",
    "print(\"Correlation between modern method and condom use:\", pearsonRTuple(contraception_list, 4, 5))"
   ]
  },
  {
   "cell_type": "markdown",
   "metadata": {},
   "source": [
    "Within countries, the correlation bewteen use of any contraception method and modern contraception method is 0.92, a very high correlation (a correlation of 1.0 means that the two variables being compared are perfectly correlated). This makes sense, as women who use modern contraception also use any contraception method. \n",
    "Correlation between condom use and any method or modern method is much lower: 0.52 and 0.48, respectively. This could be explained by the fact that condoms are used to prevent the spread of STDs, whereas other contraception methods that are not a physical barrier merely prevent pregnancy. If women primarily use condoms primarily with other partners, the number of partners they have outside their union could have a large effect on condom use, which would then have an effect on the correlations above. "
   ]
  },
  {
   "cell_type": "markdown",
   "metadata": {},
   "source": [
    "# 3. GDP and Contraception\n",
    "## 3.1 Correlation between GDP and Contraception"
   ]
  },
  {
   "cell_type": "code",
   "execution_count": 178,
   "metadata": {
    "collapsed": false
   },
   "outputs": [
    {
     "name": "stdout",
     "output_type": "stream",
     "text": [
      "Correlation between GDP and any method: 0.385378621258\n",
      "Correlation between GDP and modern method: 0.411291274771\n",
      "Correlation between GDP and condom use: 0.466031572447\n"
     ]
    }
   ],
   "source": [
    "print(\"Correlation between GDP and any method:\", pearsonRTuple(GDP_Contraception, 3, 6))\n",
    "print(\"Correlation between GDP and modern method:\", pearsonRTuple(GDP_Contraception, 4, 6))\n",
    "print(\"Correlation between GDP and condom use:\", pearsonRTuple(GDP_Contraception, 5, 6))"
   ]
  },
  {
   "cell_type": "markdown",
   "metadata": {},
   "source": [
    "The correlations of GDP and any method and of GDP and modern method are low and similar, around 0.4. The correlation between GDP and condom use is slightly higher, around 0.5. "
   ]
  },
  {
   "cell_type": "markdown",
   "metadata": {},
   "source": [
    "## 3.2 Scatter Plots of GDP and Contraception\n",
    "In the scatter plots below, you can see that the relationship between GDP and any method of contraception and the relationship between GDP and modern methods of contraception are linear when plotted on a logarithmic scale.  "
   ]
  },
  {
   "cell_type": "code",
   "execution_count": 179,
   "metadata": {
    "collapsed": false
   },
   "outputs": [
    {
     "data": {
      "image/png": "[encoded data removed]",
      "text/plain": [
       "<matplotlib.figure.Figure at 0x1080d4a90>"
      ]
     },
     "metadata": {},
     "output_type": "display_data"
    },
    {
     "data": {
      "image/png": "[encoded data removed]",
      "text/plain": [
       "<matplotlib.figure.Figure at 0x1080d4be0>"
      ]
     },
     "metadata": {},
     "output_type": "display_data"
    }
   ],
   "source": [
    "newLogPlotX(\"GDP vs Any Contraception Method\",\"GDP (PPP per Capita) in $\",\"Percentage of Women using Any \\nContraception Method\")\n",
    "plt.axis([10**2, 10**6, 0, 100])\n",
    "createScatter(GDP_Contraception, 6, 3)\n",
    "\n",
    "newLogPlotX(\"GDP vs Modern Contraception Method\",\"GDP (PPP per Capita) in $\",\"Percentage of Women using a Modern \\nContraception Method\")\n",
    "plt.axis([10**2, 10**6, 0, 100])\n",
    "createScatter(GDP_Contraception, 6, 4)"
   ]
  },
  {
   "cell_type": "markdown",
   "metadata": {},
   "source": [
    "However, the plot of condom usage looks very different. Most countries have condom usage rates very close to zero. As GDP goes up, more countries have higher condom use, however there are still many countries with high GDPs where condom use is low or close to zero. "
   ]
  },
  {
   "cell_type": "code",
   "execution_count": 180,
   "metadata": {
    "collapsed": false
   },
   "outputs": [
    {
     "data": {
      "image/png": "[encoded data removed]",
      "text/plain": [
       "<matplotlib.figure.Figure at 0x1081e7978>"
      ]
     },
     "metadata": {},
     "output_type": "display_data"
    }
   ],
   "source": [
    "newLogPlotX(\"GDP vs Condom Use\",\"GDP (PPP per Capita) in $\",\"Percentage of Women using Condoms\")\n",
    "plt.axis([10**2, 10**6, 0, 100])\n",
    "createScatter(GDP_Contraception, 6, 5)"
   ]
  },
  {
   "cell_type": "markdown",
   "metadata": {},
   "source": [
    "## 3.3 Correlation between log of GDP and Contraception Use"
   ]
  },
  {
   "cell_type": "code",
   "execution_count": 181,
   "metadata": {
    "collapsed": false
   },
   "outputs": [
    {
     "name": "stdout",
     "output_type": "stream",
     "text": [
      "Correlation between log of GDP and any method: 0.65586365617\n",
      "Correlation between log of GDP and modern method: 0.618073733616\n",
      "Correlation between log of GDP and condom use: 0.570194748855\n"
     ]
    }
   ],
   "source": [
    "GDP = tupleList(GDP_Contraception, 6)\n",
    "Any = tupleList(GDP_Contraception, 3)\n",
    "Modern = tupleList(GDP_Contraception, 4)\n",
    "Condom = tupleList(GDP_Contraception, 5)\n",
    "logGDP = []\n",
    "for ii in range(len(GDP)):\n",
    "    logGDP.append(math.log(GDP[ii]))\n",
    "\n",
    "print(\"Correlation between log of GDP and any method:\", scipy.stats.pearsonr(logGDP, Any)[0])\n",
    "print(\"Correlation between log of GDP and modern method:\", scipy.stats.pearsonr(logGDP, Modern)[0])\n",
    "print(\"Correlation between log of GDP and condom use:\", scipy.stats.pearsonr(logGDP, Condom)[0])"
   ]
  },
  {
   "cell_type": "markdown",
   "metadata": {},
   "source": [
    "When the pearson r correlation coefficient is taken of the log of GDP and contraception types, the correlation goes up from linear correlation of 0.4 found in section 3.1. This indicates that the relationship between GDP and contraception usage follows a power law. \n",
    "However, the contraception variables with the greatest correlation coefficients switched: before the log was taken, condom use and GDP had the highest correlation, but afterwards it had the lowest correlation (not by much, though). "
   ]
  },
  {
   "cell_type": "markdown",
   "metadata": {},
   "source": [
    "# 4. Literacy Rate and Contraception\n",
    "## 4.1 Mean, Correlation of Literacy Rate of Men and Women"
   ]
  },
  {
   "cell_type": "code",
   "execution_count": 182,
   "metadata": {
    "collapsed": false
   },
   "outputs": [
    {
     "name": "stdout",
     "output_type": "stream",
     "text": [
      "Mean literacy rate of women 15+: 79.60122913879282 %\n",
      "Mean literacy rate of men 15+ 87.02756977668508 %\n"
     ]
    }
   ],
   "source": [
    "print(\"Mean literacy rate of women 15+:\", averageTuple(literacyRate, 2, \"mean\"), \"%\")\n",
    "print(\"Mean literacy rate of men 15+\", averageTuple(literacyRate, 3, \"mean\"), \"%\")"
   ]
  },
  {
   "cell_type": "markdown",
   "metadata": {},
   "source": [
    "The average percentage of men who are literate worldwide is higher than the percentage of women who are literate, by around 7 points. "
   ]
  },
  {
   "cell_type": "code",
   "execution_count": 183,
   "metadata": {
    "collapsed": false
   },
   "outputs": [
    {
     "name": "stdout",
     "output_type": "stream",
     "text": [
      "Correlation Between Literacy Rates of Men and Women (ages 15+): 0.956132763395\n"
     ]
    }
   ],
   "source": [
    "print(\"Correlation Between Literacy Rates of Men and Women (ages 15+):\", pearsonRTuple(literacyRate, 3, 2))"
   ]
  },
  {
   "cell_type": "markdown",
   "metadata": {},
   "source": [
    "In addition, the correlation between the literacy rates of men and women is very close to one, indicating that the literacy rates of men and women generally rise together. "
   ]
  },
  {
   "cell_type": "markdown",
   "metadata": {},
   "source": [
    "## 4.2 Correlation Between Literacy Rate and Contraception"
   ]
  },
  {
   "cell_type": "code",
   "execution_count": 184,
   "metadata": {
    "collapsed": false,
    "scrolled": true
   },
   "outputs": [
    {
     "name": "stdout",
     "output_type": "stream",
     "text": [
      "Correlation between literacy rate of women and percent of women using any contraception method: 0.758489062744\n",
      "Correlation between literacy rate of men and percent of women using any contraception method: 0.71242666453 \n",
      "\n",
      "Correlation between literacy rate of women and percent of women using a modern contraception method: 0.702060605289\n",
      "Correlation between literacy rate of men and percent of women using a modern contraception method: 0.624115459616 \n",
      "\n"
     ]
    }
   ],
   "source": [
    "print(\"Correlation between literacy rate of women and percent of women using any contraception method:\", pearsonRTuple(literacy_Contraception, 6, 3))\n",
    "print(\"Correlation between literacy rate of men and percent of women using any contraception method:\", pearsonRTuple(literacy_Contraception, 3, 7), \"\\n\")\n",
    "\n",
    "print(\"Correlation between literacy rate of women and percent of women using a modern contraception method:\", pearsonRTuple(literacy_Contraception, 4, 6))\n",
    "print(\"Correlation between literacy rate of men and percent of women using a modern contraception method:\", pearsonRTuple(literacy_Contraception, 4, 7),\"\\n\")"
   ]
  },
  {
   "cell_type": "markdown",
   "metadata": {},
   "source": [
    "The correlation between contraception methods and literacy rates are high. In addition, there is not a large difference in correlation of contraception methods and the literacy rate of men and the literacy rate of women. However, in for all three contraception categories, the correlation between contraception use and literacy rate of women was higher than the correlation between contracetption use and the literacy rate of men. \n",
    "The correlation between condom use and literacy rate followed this pattern, but was considerably lower than the correlation between other methods and literacy rate. This can be explained by the fact that condoms are used less frequently during sexual engagement with primary partners, as discussed in section 2.1. This means that the number of women in unions using them is much lower overall, so the difference could be noise. In addition, among women in unions, condoms are primarily used to prevent the spread of STDs, whereas other methods of birth control are used primarily to prevent pregnancy. So, condom usage could be higher in countries where it is more common for women have sex with someone other than their partner, which would cause a difference in correlation. "
   ]
  },
  {
   "cell_type": "code",
   "execution_count": 185,
   "metadata": {
    "collapsed": false
   },
   "outputs": [
    {
     "name": "stdout",
     "output_type": "stream",
     "text": [
      "Correlation between literacy rate of women and percent of women using condoms: 0.45713365328\n",
      "Correlation between literacy rate of women and percent of men using condoms: 0.405032398768 \n",
      "\n"
     ]
    }
   ],
   "source": [
    "print(\"Correlation between literacy rate of women and percent of women using condoms:\", pearsonRTuple(literacy_Contraception, 5, 6))\n",
    "print(\"Correlation between literacy rate of women and percent of men using condoms:\", pearsonRTuple(literacy_Contraception, 5, 7),\"\\n\")"
   ]
  },
  {
   "cell_type": "markdown",
   "metadata": {},
   "source": [
    "## 4.3 Scatter Plots of Literacy Rate and Contraception Use"
   ]
  },
  {
   "cell_type": "code",
   "execution_count": 186,
   "metadata": {
    "collapsed": false
   },
   "outputs": [
    {
     "data": {
      "image/png": "[encoded data removed]",
      "text/plain": [
       "<matplotlib.figure.Figure at 0x1078c35c0>"
      ]
     },
     "metadata": {},
     "output_type": "display_data"
    },
    {
     "data": {
      "image/png": "[encoded data removed]",
      "text/plain": [
       "<matplotlib.figure.Figure at 0x1070f1e48>"
      ]
     },
     "metadata": {},
     "output_type": "display_data"
    },
    {
     "data": {
      "image/png": "[encoded data removed]",
      "text/plain": [
       "<matplotlib.figure.Figure at 0x107c91160>"
      ]
     },
     "metadata": {},
     "output_type": "display_data"
    }
   ],
   "source": [
    "newPlot(\"Literacy Rate of Women vs Any Contraception Method\",\"Percent of Women who are Literate\",\"Percentage of Women using Any \\nContraception Method\")\n",
    "createScatter(literacy_Contraception, 6, 3)\n",
    "\n",
    "newPlot(\"Literacy Rate of Women vs Modern Contraception Method\",\"Percent of Women who are Literate\",\"Percentage of Women using a Modern \\nContraception Method\")\n",
    "createScatter(literacy_Contraception, 6, 4)\n",
    "\n",
    "newPlot(\"Literacy Rate of Women vs Condom Use\",\"Percent of Women who are Literate\",\"Percentage of Women using Condoms\")\n",
    "createScatter(literacy_Contraception, 6, 5)"
   ]
  },
  {
   "cell_type": "markdown",
   "metadata": {},
   "source": [
    "In the scatter plots above, it is clear that as literacy rate of women goes up, percentage of women who use contraception also goes up. However, there is a wide spread: countries that have high literacy rates do not necessarily have high contraception use rates. \n",
    "\n",
    "Note: For some reason there aren't literacy rate values between 60% and 80% for women. However, in scatter plots of the literacy rate of men versus contraception use, there are literacy rate values between 60% and 80%. Other than this difference, scatter plots of the literacy rate of men versus contraception use were very similar, which is why those scatter plots are not included here. "
   ]
  },
  {
   "cell_type": "markdown",
   "metadata": {},
   "source": [
    "# 5. Conclusion\n",
    "Around 48% of women ages 15-49 who are married or in a union use any method of contraception, however only around 6.5% of these women use condoms. This could be because people are far less likely to use condoms with their primary partners than with other people. So, if these women are primarily having sex with their primary parters, condom use would be low. \n",
    "\n",
    "In addition, the correlation between GPD and contraception use (any and modern) is low, around 0.4. However, when the correlation of the log of GDP and contraception use (any and modern) is taken, the correlation coefficient increases to around 0.6, a much more meaningful correlation. However, the correlation between GDP and literacy rate of women is still higher than this, at 0.7. This indicates that the literacy rate of women is has a greater influence on their use of contraceptives. Interestingly, the correlation between GDP and condom use, 0.57, is not that much lower than the correlation bewteen GDP and other contraception methods. However, the correlation between literacy rate of women and condom use, 0.46, is much lower than the correlation bewteen literacy rate of women and other contraception methods, which is around 0.7. This shows that GDP and literacy rate of women go up, the percent of women using contraception also goes up. However, literacy rate affects the percent of women who use contraception more than GDP. \n",
    "\n",
    "In the future, I'd like to compare my current results to more data, such as use of specific types of contraception, use of contraception for women who are not married, birthrate, the GII (gender inequality index), as well as different measures of education, such as the percentage of women who complete secondary school. I'd also like to look at whether class, wealth, or race of individuals affects their access to contraception. "
   ]
  },
  {
   "cell_type": "markdown",
   "metadata": {},
   "source": [
    "# 6. Works Cited"
   ]
  },
  {
   "cell_type": "markdown",
   "metadata": {},
   "source": [
    "                                        Works Cited\n",
    "\"Adult Literacy Rate, Population 15+ Years, Female (%)\" World Development Indicators. The World Bank Group, n.d. Web. 29 Mar. 2016.\n",
    "\n",
    "\"Adult Literacy Rate, Population 15+ Years, Male (%)\" World Development Indicators. The World Bank Group, n.d. Web. 29 Mar. 2016.\n",
    "\n",
    "\"Condom Use in the Real World.\" NAMAidsmap. NAM Publications, n.d. Web. 28 Mar. 2016.\n",
    "\"GDP per Capita, PPP (current International $).\" World Development Indicators. The World Bank Group, n.d. Web. 29 Mar. 2016.\n",
    "\n",
    "Openmundi. World. N.p.: GitHub, Inc., n.d. CSV. https://github.com/openmundi/world.csv\n",
    "\n",
    "United Nations, Department of Economic and Social Affairs,  Population Division (2015).  2015 Update for the MDG Database: Contraceptive Prevalence (POP/DB/CP/A/MDG2015)."
   ]
  }
 ],
 "metadata": {
  "kernelspec": {
   "display_name": "Python 3",
   "language": "python",
   "name": "python3"
  },
  "language_info": {
   "codemirror_mode": {
    "name": "ipython",
    "version": 3
   },
   "file_extension": ".py",
   "mimetype": "text/x-python",
   "name": "python",
   "nbconvert_exporter": "python",
   "pygments_lexer": "ipython3",
   "version": "3.5.1"
  }
 },
 "nbformat": 4,
 "nbformat_minor": 0
}
